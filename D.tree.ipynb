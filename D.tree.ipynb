{
 "cells": [
  {
   "cell_type": "code",
   "execution_count": 41,
   "metadata": {},
   "outputs": [
    {
     "data": {
      "text/html": [
       "<div>\n",
       "<style scoped>\n",
       "    .dataframe tbody tr th:only-of-type {\n",
       "        vertical-align: middle;\n",
       "    }\n",
       "\n",
       "    .dataframe tbody tr th {\n",
       "        vertical-align: top;\n",
       "    }\n",
       "\n",
       "    .dataframe thead th {\n",
       "        text-align: right;\n",
       "    }\n",
       "</style>\n",
       "<table border=\"1\" class=\"dataframe\">\n",
       "  <thead>\n",
       "    <tr style=\"text-align: right;\">\n",
       "      <th></th>\n",
       "      <th>Age</th>\n",
       "      <th>Sex</th>\n",
       "      <th>BP</th>\n",
       "      <th>Cholesterol</th>\n",
       "      <th>Na_to_K</th>\n",
       "      <th>Drug</th>\n",
       "    </tr>\n",
       "  </thead>\n",
       "  <tbody>\n",
       "    <tr>\n",
       "      <th>0</th>\n",
       "      <td>23</td>\n",
       "      <td>F</td>\n",
       "      <td>HIGH</td>\n",
       "      <td>HIGH</td>\n",
       "      <td>25.355</td>\n",
       "      <td>drugY</td>\n",
       "    </tr>\n",
       "    <tr>\n",
       "      <th>1</th>\n",
       "      <td>47</td>\n",
       "      <td>M</td>\n",
       "      <td>LOW</td>\n",
       "      <td>HIGH</td>\n",
       "      <td>13.093</td>\n",
       "      <td>drugC</td>\n",
       "    </tr>\n",
       "    <tr>\n",
       "      <th>2</th>\n",
       "      <td>47</td>\n",
       "      <td>M</td>\n",
       "      <td>LOW</td>\n",
       "      <td>HIGH</td>\n",
       "      <td>10.114</td>\n",
       "      <td>drugC</td>\n",
       "    </tr>\n",
       "    <tr>\n",
       "      <th>3</th>\n",
       "      <td>28</td>\n",
       "      <td>F</td>\n",
       "      <td>NORMAL</td>\n",
       "      <td>HIGH</td>\n",
       "      <td>7.798</td>\n",
       "      <td>drugX</td>\n",
       "    </tr>\n",
       "    <tr>\n",
       "      <th>4</th>\n",
       "      <td>61</td>\n",
       "      <td>F</td>\n",
       "      <td>LOW</td>\n",
       "      <td>HIGH</td>\n",
       "      <td>18.043</td>\n",
       "      <td>drugY</td>\n",
       "    </tr>\n",
       "  </tbody>\n",
       "</table>\n",
       "</div>"
      ],
      "text/plain": [
       "   Age Sex      BP Cholesterol  Na_to_K   Drug\n",
       "0   23   F    HIGH        HIGH   25.355  drugY\n",
       "1   47   M     LOW        HIGH   13.093  drugC\n",
       "2   47   M     LOW        HIGH   10.114  drugC\n",
       "3   28   F  NORMAL        HIGH    7.798  drugX\n",
       "4   61   F     LOW        HIGH   18.043  drugY"
      ]
     },
     "execution_count": 41,
     "metadata": {},
     "output_type": "execute_result"
    }
   ],
   "source": [
    "import pandas as pd\n",
    "import matplotlib.pyplot as plt\n",
    "\n",
    "df = pd.read_csv(r'D:\\machine learning contents\\datasets\\drug200.csv')\n",
    "df.head()"
   ]
  },
  {
   "cell_type": "code",
   "execution_count": 20,
   "metadata": {},
   "outputs": [
    {
     "data": {
      "text/plain": [
       "array(['drugY', 'drugC', 'drugX', 'drugA', 'drugB'], dtype=object)"
      ]
     },
     "execution_count": 20,
     "metadata": {},
     "output_type": "execute_result"
    }
   ],
   "source": [
    "df['Drug'].unique()"
   ]
  },
  {
   "cell_type": "code",
   "execution_count": 21,
   "metadata": {},
   "outputs": [
    {
     "data": {
      "text/plain": [
       "<Axes: ylabel='count'>"
      ]
     },
     "execution_count": 21,
     "metadata": {},
     "output_type": "execute_result"
    },
    {
     "data": {
      "image/png": "[encoded data removed]",
      "text/plain": [
       "<Figure size 640x480 with 1 Axes>"
      ]
     },
     "metadata": {},
     "output_type": "display_data"
    }
   ],
   "source": [
    "df['Drug'].value_counts().plot(kind='pie',autopct='%.2f')"
   ]
  },
  {
   "cell_type": "code",
   "execution_count": 22,
   "metadata": {},
   "outputs": [],
   "source": [
    "X=df.drop(['Drug'],axis=1)\n",
    "Y=df['Drug']"
   ]
  },
  {
   "cell_type": "code",
   "execution_count": 42,
   "metadata": {},
   "outputs": [
    {
     "data": {
      "text/plain": [
       "95     drugX\n",
       "15     drugY\n",
       "30     drugX\n",
       "158    drugC\n",
       "128    drugY\n",
       "115    drugY\n",
       "69     drugY\n",
       "170    drugX\n",
       "174    drugA\n",
       "45     drugX\n",
       "66     drugA\n",
       "182    drugX\n",
       "165    drugY\n",
       "78     drugA\n",
       "186    drugB\n",
       "177    drugY\n",
       "56     drugB\n",
       "152    drugX\n",
       "82     drugC\n",
       "68     drugY\n",
       "124    drugB\n",
       "16     drugX\n",
       "148    drugX\n",
       "93     drugY\n",
       "65     drugY\n",
       "60     drugY\n",
       "84     drugC\n",
       "67     drugX\n",
       "125    drugY\n",
       "132    drugX\n",
       "9      drugY\n",
       "18     drugC\n",
       "55     drugC\n",
       "75     drugY\n",
       "150    drugA\n",
       "104    drugY\n",
       "135    drugX\n",
       "137    drugA\n",
       "164    drugY\n",
       "76     drugA\n",
       "Name: Drug, dtype: object"
      ]
     },
     "execution_count": 42,
     "metadata": {},
     "output_type": "execute_result"
    }
   ],
   "source": [
    "from sklearn.model_selection import train_test_split\n",
    "x_train,x_test,y_train,y_test=train_test_split(X,Y,test_size=0.2,random_state=42)\n",
    "y_test"
   ]
  },
  {
   "cell_type": "code",
   "execution_count": 29,
   "metadata": {},
   "outputs": [],
   "source": [
    "from sklearn.compose import ColumnTransformer\n",
    "from sklearn.preprocessing import OrdinalEncoder,LabelEncoder\n",
    "\n",
    "cu=ColumnTransformer(transformers=[\n",
    "    ('tnf1',OrdinalEncoder(categories=[\n",
    "        ['LOW','NORMAL','HIGH'],\n",
    "        ['LOW','NORMAL','HIGH'],\n",
    "        ['F','M'],\n",
    "    ]),['BP','Cholesterol','Sex'])\n",
    "],remainder='passthrough')"
   ]
  },
  {
   "cell_type": "code",
   "execution_count": 47,
   "metadata": {},
   "outputs": [
    {
     "data": {
      "text/plain": [
       "array([[ 0.   ,  1.   ,  1.   , 36.   , 11.424],\n",
       "       [ 2.   ,  1.   ,  0.   , 16.   , 15.516],\n",
       "       [ 1.   ,  1.   ,  0.   , 18.   ,  8.75 ],\n",
       "       [ 0.   ,  2.   ,  0.   , 59.   , 10.444],\n",
       "       [ 0.   ,  1.   ,  1.   , 47.   , 33.542],\n",
       "       [ 2.   ,  2.   ,  1.   , 51.   , 18.295],\n",
       "       [ 2.   ,  1.   ,  0.   , 18.   , 24.276],\n",
       "       [ 1.   ,  2.   ,  0.   , 28.   , 12.879],\n",
       "       [ 2.   ,  1.   ,  1.   , 42.   , 12.766],\n",
       "       [ 1.   ,  1.   ,  0.   , 66.   ,  8.107],\n",
       "       [ 2.   ,  2.   ,  1.   , 29.   , 12.856],\n",
       "       [ 0.   ,  1.   ,  0.   , 20.   , 11.686],\n",
       "       [ 0.   ,  2.   ,  1.   , 38.   , 18.295],\n",
       "       [ 2.   ,  2.   ,  0.   , 19.   , 13.313],\n",
       "       [ 2.   ,  2.   ,  1.   , 70.   ,  9.849],\n",
       "       [ 1.   ,  2.   ,  1.   , 25.   , 19.011],\n",
       "       [ 2.   ,  1.   ,  1.   , 65.   , 11.34 ],\n",
       "       [ 1.   ,  1.   ,  1.   , 55.   ,  7.261],\n",
       "       [ 0.   ,  2.   ,  0.   , 32.   ,  9.712],\n",
       "       [ 1.   ,  2.   ,  1.   , 54.   , 24.658],\n",
       "       [ 2.   ,  1.   ,  0.   , 53.   , 12.495],\n",
       "       [ 0.   ,  1.   ,  1.   , 69.   , 11.455],\n",
       "       [ 0.   ,  1.   ,  0.   , 61.   ,  7.34 ],\n",
       "       [ 0.   ,  1.   ,  0.   , 42.   , 29.271],\n",
       "       [ 1.   ,  1.   ,  0.   , 68.   , 27.05 ],\n",
       "       [ 0.   ,  1.   ,  0.   , 38.   , 29.875],\n",
       "       [ 0.   ,  2.   ,  0.   , 47.   , 10.067],\n",
       "       [ 1.   ,  1.   ,  1.   , 17.   , 10.832],\n",
       "       [ 2.   ,  1.   ,  0.   , 19.   , 25.969],\n",
       "       [ 0.   ,  1.   ,  1.   , 49.   , 13.598],\n",
       "       [ 0.   ,  1.   ,  1.   , 43.   , 19.368],\n",
       "       [ 0.   ,  2.   ,  1.   , 23.   ,  7.298],\n",
       "       [ 0.   ,  2.   ,  0.   , 26.   , 14.16 ],\n",
       "       [ 0.   ,  1.   ,  1.   , 26.   , 20.909],\n",
       "       [ 2.   ,  1.   ,  1.   , 49.   ,  8.7  ],\n",
       "       [ 2.   ,  1.   ,  1.   , 22.   , 28.294],\n",
       "       [ 0.   ,  1.   ,  1.   , 74.   , 11.939],\n",
       "       [ 2.   ,  2.   ,  0.   , 35.   , 12.894],\n",
       "       [ 2.   ,  1.   ,  1.   , 16.   , 19.007],\n",
       "       [ 2.   ,  2.   ,  0.   , 36.   , 11.198]])"
      ]
     },
     "execution_count": 47,
     "metadata": {},
     "output_type": "execute_result"
    }
   ],
   "source": [
    "\n",
    "cu.fit(x_train)\n",
    "\n",
    "x_train1=cu.transform(x_train)\n",
    "x_test1=cu.transform(x_test)\n",
    "\n",
    "x_test1"
   ]
  },
  {
   "cell_type": "code",
   "execution_count": 31,
   "metadata": {},
   "outputs": [],
   "source": [
    "le=LabelEncoder()\n",
    "\n",
    "le.fit(y_train)\n",
    "\n",
    "y_train=le.transform(y_train)\n",
    "y_test=le.transform(y_test)"
   ]
  },
  {
   "cell_type": "code",
   "execution_count": 33,
   "metadata": {},
   "outputs": [],
   "source": [
    "from sklearn.preprocessing import StandardScaler\n",
    "sr=StandardScaler()\n",
    "sr.fit(x_train1)\n",
    "\n",
    "x_train=sr.transform(x_train1)\n",
    "x_test=sr.transform(x_test1)"
   ]
  },
  {
   "cell_type": "code",
   "execution_count": 40,
   "metadata": {},
   "outputs": [
    {
     "name": "stdout",
     "output_type": "stream",
     "text": [
      "[3 4 3 2 4 4 4 3 0 3 0 3 4 0 1 4 1 3 2 4 1 3 3 4 4 4 2 3 4 3 4 2 2 4 0 4 3\n",
      " 0 4 0]   [3 4 3 2 4 4 4 3 0 3 0 3 4 0 1 4 1 3 2 4 1 3 3 4 4 4 2 3 4 3 4 2 2 4 0 4 3\n",
      " 0 4 0]\n"
     ]
    }
   ],
   "source": [
    "from sklearn.tree import DecisionTreeClassifier\n",
    "from sklearn import tree\n",
    "import matplotlib.pyplot as plt\n",
    "model=DecisionTreeClassifier()\n",
    "model.fit(x_train,y_train)  \n",
    "print(model.predict(x_test),\" \", y_test)\n"
   ]
  },
  {
   "cell_type": "code",
   "execution_count": 48,
   "metadata": {},
   "outputs": [
    {
     "name": "stdout",
     "output_type": "stream",
     "text": [
      "DrugY\n"
     ]
    }
   ],
   "source": [
    "def validation(input_data):\n",
    "        model.predict([input_data])\n",
    "        if model.predict([input_data])==0:\n",
    "            return \"DrugA\"\n",
    "        elif model.predict([input_data])==1:\n",
    "            return \"DrugB\"\n",
    "        elif model.predict([input_data])==2:\n",
    "            return \"DrugC\"\n",
    "        elif model.predict([input_data])==3:\n",
    "            return \"DrugX\"\n",
    "        else:\n",
    "            return \"DrugY\"\n",
    "        \n",
    "\n",
    "input_data = [23,0,2,2,25355]\n",
    "print(validation(input_data))"
   ]
  }
 ],
 "metadata": {
  "kernelspec": {
   "display_name": "ml_env",
   "language": "python",
   "name": "python3"
  },
  "language_info": {
   "codemirror_mode": {
    "name": "ipython",
    "version": 3
   },
   "file_extension": ".py",
   "mimetype": "text/x-python",
   "name": "python",
   "nbconvert_exporter": "python",
   "pygments_lexer": "ipython3",
   "version": "3.11.9"
  }
 },
 "nbformat": 4,
 "nbformat_minor": 2
}
